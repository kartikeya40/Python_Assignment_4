{
 "cells": [
  {
   "cell_type": "markdown",
   "id": "8ca649cd",
   "metadata": {},
   "source": [
    "1.What exactly is []?"
   ]
  },
  {
   "cell_type": "markdown",
   "id": "f430731d",
   "metadata": {},
   "source": [
    "[] are brackets that contain a list, or are used to initialize an empty list ex:- var = []"
   ]
  },
  {
   "cell_type": "markdown",
   "id": "18d306fb",
   "metadata": {},
   "source": [
    "2.In a list of values stored in a variable called spam, how would you assign the value 'hello'; as the\n",
    "third value? (Assume [2, 4, 6, 8, 10] are in spam.)"
   ]
  },
  {
   "cell_type": "code",
   "execution_count": 3,
   "id": "81dad175",
   "metadata": {},
   "outputs": [
    {
     "name": "stdout",
     "output_type": "stream",
     "text": [
      "[2, 4, 'hello', 6, 8, 10]\n"
     ]
    }
   ],
   "source": [
    "spam =[2,4,6,8,10]\n",
    "spam.insert(2,'hello')\n",
    "print(spam)"
   ]
  },
  {
   "cell_type": "markdown",
   "id": "58a2f6fe",
   "metadata": {},
   "source": [
    "3.What is the value of spam[int(int('3'* 2) / 11)]?"
   ]
  },
  {
   "cell_type": "markdown",
   "id": "eeb8138f",
   "metadata": {},
   "source": [
    "'d'"
   ]
  },
  {
   "cell_type": "markdown",
   "id": "f588cb57",
   "metadata": {},
   "source": [
    "4.What is the value of spam[-1]?"
   ]
  },
  {
   "cell_type": "markdown",
   "id": "3f40e9e5",
   "metadata": {},
   "source": [
    "d"
   ]
  },
  {
   "cell_type": "markdown",
   "id": "5176d06c",
   "metadata": {},
   "source": [
    "5.What is the value of spam[:2]?"
   ]
  },
  {
   "cell_type": "markdown",
   "id": "ff148190",
   "metadata": {},
   "source": [
    "['a','b']"
   ]
  },
  {
   "cell_type": "markdown",
   "id": "75dc79b5",
   "metadata": {},
   "source": [
    "6.What is the value of bacon.index('cat')?"
   ]
  },
  {
   "cell_type": "markdown",
   "id": "8036f3a8",
   "metadata": {},
   "source": [
    "1"
   ]
  },
  {
   "cell_type": "markdown",
   "id": "7668a2e6",
   "metadata": {},
   "source": [
    "7.How does bacon.append(99) change the look of the list value in bacon?"
   ]
  },
  {
   "cell_type": "markdown",
   "id": "ba6cff2c",
   "metadata": {},
   "source": [
    "The list becomes [3.14, 'cat', 11, 'cat', True, 99]"
   ]
  },
  {
   "cell_type": "markdown",
   "id": "76e809b3",
   "metadata": {},
   "source": [
    "8.How does bacon.remove('cat') change the look of the list in bacon?"
   ]
  },
  {
   "cell_type": "markdown",
   "id": "b651eb70",
   "metadata": {},
   "source": [
    "It removes the 1st occurence of 'cat'. The list becomes [3.14, 11, 'cat', True, 99]"
   ]
  },
  {
   "cell_type": "markdown",
   "id": "13c802e5",
   "metadata": {},
   "source": [
    "9.What are the list concatenation and list replication operators?"
   ]
  },
  {
   "cell_type": "markdown",
   "id": "470b2481",
   "metadata": {},
   "source": [
    "+ is the list concatenation operator and * is the list replication operator"
   ]
  },
  {
   "cell_type": "markdown",
   "id": "628ef1ba",
   "metadata": {},
   "source": [
    "10.What is difference between the list methods append() and insert()?"
   ]
  },
  {
   "cell_type": "markdown",
   "id": "25b9df5e",
   "metadata": {},
   "source": [
    "append() adds the new values at the end of the list, insert() adds the new values at the index in which it is specified"
   ]
  },
  {
   "cell_type": "markdown",
   "id": "1992c060",
   "metadata": {},
   "source": [
    "11.What are the two methods for removing items from a list?"
   ]
  },
  {
   "cell_type": "markdown",
   "id": "6854c1ec",
   "metadata": {},
   "source": [
    "The two methods are pop() and remove(). pop() removes the last element, where remove() removes the value specified. Refer to the code below\n",
    "lst=[1,2,3,4]\n",
    "lst.pop()\n",
    "print(lst)\n",
    "lst.remove(1)\n",
    "print(lst)"
   ]
  },
  {
   "cell_type": "markdown",
   "id": "1aed4f2d",
   "metadata": {},
   "source": [
    "12.Describe how list values and string values are identical."
   ]
  },
  {
   "cell_type": "markdown",
   "id": "23ea3424",
   "metadata": {},
   "source": [
    "There are various similar operations that can be carried out on list and strings. They are:\n",
    "1.Both can be iterated through a loop\n",
    "2.Indexing can be used on both\n",
    "3.Both can be concatenated "
   ]
  },
  {
   "cell_type": "markdown",
   "id": "2916b4a0",
   "metadata": {},
   "source": [
    "13.What is the difference between tuples and lists?"
   ]
  },
  {
   "cell_type": "markdown",
   "id": "ba475e9d",
   "metadata": {},
   "source": [
    "Tuples are immutable, and contain values in (   ), whereas lists are mutable can contain values in [   ]"
   ]
  },
  {
   "cell_type": "markdown",
   "id": "57255bbe",
   "metadata": {},
   "source": [
    "14.How do you type a tuple value that only contains the integer 42?"
   ]
  },
  {
   "cell_type": "markdown",
   "id": "2473f93b",
   "metadata": {},
   "source": [
    "int"
   ]
  },
  {
   "cell_type": "markdown",
   "id": "d2d7ecfc",
   "metadata": {},
   "source": [
    "15.How do you get a list value's tuple form? How do you get a tuple value's list form?"
   ]
  },
  {
   "cell_type": "code",
   "execution_count": 21,
   "id": "6391eba3",
   "metadata": {},
   "outputs": [
    {
     "name": "stdout",
     "output_type": "stream",
     "text": [
      "(1, 2, 3, 4, 5)\n",
      "[1, 2, 3, 4, 5]\n"
     ]
    }
   ],
   "source": [
    "It is achieved using the below functions:\n",
    "lst=[1,2,3,4,5]\n",
    "print(tuple(lst))\n",
    "\n",
    "tup=(1,2,3,4,5)\n",
    "print(list(tup))\n"
   ]
  },
  {
   "cell_type": "markdown",
   "id": "27ae5ac3",
   "metadata": {},
   "source": [
    "16.Variables that \"contain\" list values are not necessarily lists themselves. Instead, what do they\n",
    "contain?"
   ]
  },
  {
   "cell_type": "markdown",
   "id": "08915243",
   "metadata": {},
   "source": [
    "It refers to lists"
   ]
  },
  {
   "cell_type": "markdown",
   "id": "3d9a644f",
   "metadata": {},
   "source": [
    "17.How do you distinguish between copy.copy() and copy.deepcopy()?"
   ]
  },
  {
   "cell_type": "markdown",
   "id": "546be56f",
   "metadata": {},
   "source": [
    "copy.deepcopy() constructs a new object & then inserts copies into it of the object found in the original\n",
    "copy.copy() constructs a new object & then inserts references into it to the objects found in the original "
   ]
  }
 ],
 "metadata": {
  "kernelspec": {
   "display_name": "Python 3 (ipykernel)",
   "language": "python",
   "name": "python3"
  },
  "language_info": {
   "codemirror_mode": {
    "name": "ipython",
    "version": 3
   },
   "file_extension": ".py",
   "mimetype": "text/x-python",
   "name": "python",
   "nbconvert_exporter": "python",
   "pygments_lexer": "ipython3",
   "version": "3.9.7"
  }
 },
 "nbformat": 4,
 "nbformat_minor": 5
}
